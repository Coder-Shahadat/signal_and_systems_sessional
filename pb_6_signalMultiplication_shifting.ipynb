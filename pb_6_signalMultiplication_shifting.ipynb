{
  "nbformat": 4,
  "nbformat_minor": 0,
  "metadata": {
    "colab": {
      "provenance": [],
      "authorship_tag": "ABX9TyO6effv0rJegjgp0rTc1rXM",
      "include_colab_link": true
    },
    "kernelspec": {
      "name": "python3",
      "display_name": "Python 3"
    },
    "language_info": {
      "name": "python"
    }
  },
  "cells": [
    {
      "cell_type": "markdown",
      "metadata": {
        "id": "view-in-github",
        "colab_type": "text"
      },
      "source": [
        "<a href=\"https://colab.research.google.com/github/Coder-Shahadat/signal_and_systems_sessional/blob/main/pb_6_signalMultiplication_shifting.ipynb\" target=\"_parent\"><img src=\"https://colab.research.google.com/assets/colab-badge.svg\" alt=\"Open In Colab\"/></a>"
      ]
    },
    {
      "cell_type": "code",
      "execution_count": 4,
      "metadata": {
        "id": "p9N9ZHtIIXs0",
        "outputId": "cb0ceef9-94cb-4892-b689-00cc5766443c",
        "colab": {
          "base_uri": "https://localhost:8080/",
          "height": 520
        }
      },
      "outputs": [
        {
          "output_type": "stream",
          "name": "stderr",
          "text": [
            "/usr/local/lib/python3.7/dist-packages/ipykernel_launcher.py:29: UserWarning: In Matplotlib 3.3 individual lines on a stem plot will be added as a LineCollection instead of individual lines. This significantly improves the performance of a stem plot. To remove this warning and switch to the new behaviour, set the \"use_line_collection\" keyword argument to True.\n"
          ]
        },
        {
          "output_type": "display_data",
          "data": {
            "text/plain": [
              "<Figure size 720x576 with 1 Axes>"
            ],
            "image/png": "[encoded data removed]"
          },
          "metadata": {
            "needs_background": "light"
          }
        }
      ],
      "source": [
        "import numpy as np\n",
        "import matplotlib.pyplot as plot\n",
        "\n",
        "x1=[0,1,2,3,4]\n",
        "x2=[2,2,2,2,2]\n",
        "n1=np.arange(0,5)\n",
        "n2=np.arange(-2,3) \n",
        "n=np.arange(min(min(n1),min(n2)),max(max(n1),max(n2)))\n",
        "y1=np.zeros(len(n))\n",
        "y2=np.zeros(len(n))\n",
        "\n",
        "t=k=-1\n",
        "idx=idxs=0\n",
        "for i in n:\n",
        "    k+=1\n",
        "    for j in n1:\n",
        "        if i==j:\n",
        "            y1[k]=x1[idx]\n",
        "            idx+=1\n",
        "    t+=1\n",
        "    for s in n2:\n",
        "        if i==s:\n",
        "            y2[t]=x2[idxs]\n",
        "            idxs+=1\n",
        "\n",
        "\n",
        "y=y1*y2\n",
        "plot.figure(figsize=(10,8))\n",
        "plot.stem(n,y)\n",
        "plot.show()"
      ]
    }
  ]
}