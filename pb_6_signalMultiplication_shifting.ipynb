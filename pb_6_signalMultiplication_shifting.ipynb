{
  "nbformat": 4,
  "nbformat_minor": 0,
  "metadata": {
    "colab": {
      "provenance": [],
      "collapsed_sections": [],
      "authorship_tag": "ABX9TyME+ChfY4eW/tyhTCSeJ1C+",
      "include_colab_link": true
    },
    "kernelspec": {
      "name": "python3",
      "display_name": "Python 3"
    },
    "language_info": {
      "name": "python"
    }
  },
  "cells": [
    {
      "cell_type": "markdown",
      "metadata": {
        "id": "view-in-github",
        "colab_type": "text"
      },
      "source": [
        "<a href=\"https://colab.research.google.com/github/Coder-Shahadat/signal_and_systems_sessional/blob/main/pb_6_signalMultiplication_shifting.ipynb\" target=\"_parent\"><img src=\"https://colab.research.google.com/assets/colab-badge.svg\" alt=\"Open In Colab\"/></a>"
      ]
    },
    {
      "cell_type": "code",
      "execution_count": 5,
      "metadata": {
        "id": "p9N9ZHtIIXs0",
        "outputId": "4107f214-2c37-4038-8caf-2148b0439bee",
        "colab": {
          "base_uri": "https://localhost:8080/",
          "height": 520
        }
      },
      "outputs": [
        {
          "output_type": "stream",
          "name": "stderr",
          "text": [
            "/usr/local/lib/python3.7/dist-packages/ipykernel_launcher.py:18: UserWarning: In Matplotlib 3.3 individual lines on a stem plot will be added as a LineCollection instead of individual lines. This significantly improves the performance of a stem plot. To remove this warning and switch to the new behaviour, set the \"use_line_collection\" keyword argument to True.\n"
          ]
        },
        {
          "output_type": "display_data",
          "data": {
            "text/plain": [
              "<Figure size 720x576 with 1 Axes>"
            ],
            "image/png": "[encoded data removed]"
          },
          "metadata": {
            "needs_background": "light"
          }
        }
      ],
      "source": [
        "import numpy as np\n",
        "import matplotlib.pyplot as plot\n",
        "\n",
        "x1=[0,1,2,3,4]\n",
        "x2=[2,2,2,2,2]\n",
        "n1=np.arange(0,5)\n",
        "n2=np.arange(-2,3) \n",
        "n=np.arange(min(min(n1),min(n2)),max(max(n1),max(n2))+1)\n",
        "y1=np.zeros(len(n))\n",
        "y2=np.zeros(len(n))\n",
        "\n",
        "li=list(n)\n",
        "y1[li.index(n1[0]):li.index(n1[0])+len(n1)]=x1\n",
        "y2[li.index(n2[0]):li.index(n2[0])+len(n2)]=x2\n",
        "\n",
        "# Signal Multiplication\n",
        "y=y1*y2\n",
        "plot.figure(figsize=(10,8))\n",
        "plot.stem(n,y)\n",
        "plot.show()"
      ]
    }
  ]
}